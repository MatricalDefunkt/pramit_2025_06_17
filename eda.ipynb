{
 "cells": [
  {
   "cell_type": "code",
   "execution_count": 1,
   "id": "819b950b",
   "metadata": {},
   "outputs": [],
   "source": [
    "import pandas as pd"
   ]
  },
  {
   "cell_type": "code",
   "execution_count": 2,
   "id": "c09ce9fd",
   "metadata": {},
   "outputs": [],
   "source": [
    "store_status = pd.read_csv(\"./store_status.csv\")\n",
    "timezones = pd.read_csv(\"./timezones.csv\")\n",
    "menu_hours = pd.read_csv(\"./menu_hours.csv\")"
   ]
  },
  {
   "cell_type": "code",
   "execution_count": 3,
   "id": "3dec6f3c",
   "metadata": {},
   "outputs": [
    {
     "data": {
      "text/html": [
       "<div>\n",
       "<style scoped>\n",
       "    .dataframe tbody tr th:only-of-type {\n",
       "        vertical-align: middle;\n",
       "    }\n",
       "\n",
       "    .dataframe tbody tr th {\n",
       "        vertical-align: top;\n",
       "    }\n",
       "\n",
       "    .dataframe thead th {\n",
       "        text-align: right;\n",
       "    }\n",
       "</style>\n",
       "<table border=\"1\" class=\"dataframe\">\n",
       "  <thead>\n",
       "    <tr style=\"text-align: right;\">\n",
       "      <th></th>\n",
       "      <th>store_id</th>\n",
       "      <th>status</th>\n",
       "      <th>timestamp_utc</th>\n",
       "    </tr>\n",
       "  </thead>\n",
       "  <tbody>\n",
       "    <tr>\n",
       "      <th>0</th>\n",
       "      <td>b5d0a65d-6d54-47aa-95e9-9312f0353326</td>\n",
       "      <td>active</td>\n",
       "      <td>2024-10-03 23:33:20.412748 UTC</td>\n",
       "    </tr>\n",
       "    <tr>\n",
       "      <th>1</th>\n",
       "      <td>a792089b-e23d-435f-bc18-113b7cc95e11</td>\n",
       "      <td>active</td>\n",
       "      <td>2024-10-03 23:33:36.781143 UTC</td>\n",
       "    </tr>\n",
       "    <tr>\n",
       "      <th>2</th>\n",
       "      <td>7a242d0e-309c-4915-9755-e9019d69108d</td>\n",
       "      <td>active</td>\n",
       "      <td>2024-10-03 23:33:37.536328 UTC</td>\n",
       "    </tr>\n",
       "    <tr>\n",
       "      <th>3</th>\n",
       "      <td>ca793240-b974-4551-ba0b-649d1a52956c</td>\n",
       "      <td>active</td>\n",
       "      <td>2024-10-03 23:33:56.752347 UTC</td>\n",
       "    </tr>\n",
       "    <tr>\n",
       "      <th>4</th>\n",
       "      <td>3a2313be-27d9-429f-9906-ccd142d9906c</td>\n",
       "      <td>active</td>\n",
       "      <td>2024-10-03 23:34:04.138852 UTC</td>\n",
       "    </tr>\n",
       "  </tbody>\n",
       "</table>\n",
       "</div>"
      ],
      "text/plain": [
       "                               store_id  status  \\\n",
       "0  b5d0a65d-6d54-47aa-95e9-9312f0353326  active   \n",
       "1  a792089b-e23d-435f-bc18-113b7cc95e11  active   \n",
       "2  7a242d0e-309c-4915-9755-e9019d69108d  active   \n",
       "3  ca793240-b974-4551-ba0b-649d1a52956c  active   \n",
       "4  3a2313be-27d9-429f-9906-ccd142d9906c  active   \n",
       "\n",
       "                    timestamp_utc  \n",
       "0  2024-10-03 23:33:20.412748 UTC  \n",
       "1  2024-10-03 23:33:36.781143 UTC  \n",
       "2  2024-10-03 23:33:37.536328 UTC  \n",
       "3  2024-10-03 23:33:56.752347 UTC  \n",
       "4  2024-10-03 23:34:04.138852 UTC  "
      ]
     },
     "execution_count": 3,
     "metadata": {},
     "output_type": "execute_result"
    }
   ],
   "source": [
    "store_status.head()"
   ]
  },
  {
   "cell_type": "code",
   "execution_count": 4,
   "id": "e6a2cda3",
   "metadata": {},
   "outputs": [
    {
     "data": {
      "text/html": [
       "<div>\n",
       "<style scoped>\n",
       "    .dataframe tbody tr th:only-of-type {\n",
       "        vertical-align: middle;\n",
       "    }\n",
       "\n",
       "    .dataframe tbody tr th {\n",
       "        vertical-align: top;\n",
       "    }\n",
       "\n",
       "    .dataframe thead th {\n",
       "        text-align: right;\n",
       "    }\n",
       "</style>\n",
       "<table border=\"1\" class=\"dataframe\">\n",
       "  <thead>\n",
       "    <tr style=\"text-align: right;\">\n",
       "      <th></th>\n",
       "      <th>store_id</th>\n",
       "      <th>timezone_str</th>\n",
       "    </tr>\n",
       "  </thead>\n",
       "  <tbody>\n",
       "    <tr>\n",
       "      <th>0</th>\n",
       "      <td>f6e4d870-a273-49cf-be4d-1bf529e26ff3</td>\n",
       "      <td>America/Boise</td>\n",
       "    </tr>\n",
       "    <tr>\n",
       "      <th>1</th>\n",
       "      <td>7fa112c6-fd3a-4ff6-aadb-4b55f2e74048</td>\n",
       "      <td>America/Boise</td>\n",
       "    </tr>\n",
       "    <tr>\n",
       "      <th>2</th>\n",
       "      <td>273c2570-da54-4526-ab33-175e4d7a1609</td>\n",
       "      <td>America/Boise</td>\n",
       "    </tr>\n",
       "    <tr>\n",
       "      <th>3</th>\n",
       "      <td>bad3c0e6-ad67-40b4-aca8-ce1046b25d68</td>\n",
       "      <td>America/Boise</td>\n",
       "    </tr>\n",
       "    <tr>\n",
       "      <th>4</th>\n",
       "      <td>0df89218-fde7-4fc6-83da-1c2fc7b480a0</td>\n",
       "      <td>America/Boise</td>\n",
       "    </tr>\n",
       "  </tbody>\n",
       "</table>\n",
       "</div>"
      ],
      "text/plain": [
       "                               store_id   timezone_str\n",
       "0  f6e4d870-a273-49cf-be4d-1bf529e26ff3  America/Boise\n",
       "1  7fa112c6-fd3a-4ff6-aadb-4b55f2e74048  America/Boise\n",
       "2  273c2570-da54-4526-ab33-175e4d7a1609  America/Boise\n",
       "3  bad3c0e6-ad67-40b4-aca8-ce1046b25d68  America/Boise\n",
       "4  0df89218-fde7-4fc6-83da-1c2fc7b480a0  America/Boise"
      ]
     },
     "execution_count": 4,
     "metadata": {},
     "output_type": "execute_result"
    }
   ],
   "source": [
    "timezones.head()"
   ]
  },
  {
   "cell_type": "code",
   "execution_count": 5,
   "id": "f76faa82",
   "metadata": {},
   "outputs": [
    {
     "data": {
      "text/html": [
       "<div>\n",
       "<style scoped>\n",
       "    .dataframe tbody tr th:only-of-type {\n",
       "        vertical-align: middle;\n",
       "    }\n",
       "\n",
       "    .dataframe tbody tr th {\n",
       "        vertical-align: top;\n",
       "    }\n",
       "\n",
       "    .dataframe thead th {\n",
       "        text-align: right;\n",
       "    }\n",
       "</style>\n",
       "<table border=\"1\" class=\"dataframe\">\n",
       "  <thead>\n",
       "    <tr style=\"text-align: right;\">\n",
       "      <th></th>\n",
       "      <th>store_id</th>\n",
       "      <th>dayOfWeek</th>\n",
       "      <th>start_time_local</th>\n",
       "      <th>end_time_local</th>\n",
       "    </tr>\n",
       "  </thead>\n",
       "  <tbody>\n",
       "    <tr>\n",
       "      <th>0</th>\n",
       "      <td>d84a4552-3668-4075-ad1d-16840294f818</td>\n",
       "      <td>1</td>\n",
       "      <td>00:00:00</td>\n",
       "      <td>00:01:00</td>\n",
       "    </tr>\n",
       "    <tr>\n",
       "      <th>1</th>\n",
       "      <td>d84a4552-3668-4075-ad1d-16840294f818</td>\n",
       "      <td>3</td>\n",
       "      <td>00:00:00</td>\n",
       "      <td>00:01:00</td>\n",
       "    </tr>\n",
       "    <tr>\n",
       "      <th>2</th>\n",
       "      <td>d84a4552-3668-4075-ad1d-16840294f818</td>\n",
       "      <td>4</td>\n",
       "      <td>00:00:00</td>\n",
       "      <td>00:01:00</td>\n",
       "    </tr>\n",
       "    <tr>\n",
       "      <th>3</th>\n",
       "      <td>d84a4552-3668-4075-ad1d-16840294f818</td>\n",
       "      <td>0</td>\n",
       "      <td>00:00:00</td>\n",
       "      <td>00:01:00</td>\n",
       "    </tr>\n",
       "    <tr>\n",
       "      <th>4</th>\n",
       "      <td>d84a4552-3668-4075-ad1d-16840294f818</td>\n",
       "      <td>5</td>\n",
       "      <td>00:00:00</td>\n",
       "      <td>00:01:00</td>\n",
       "    </tr>\n",
       "  </tbody>\n",
       "</table>\n",
       "</div>"
      ],
      "text/plain": [
       "                               store_id  dayOfWeek start_time_local  \\\n",
       "0  d84a4552-3668-4075-ad1d-16840294f818          1         00:00:00   \n",
       "1  d84a4552-3668-4075-ad1d-16840294f818          3         00:00:00   \n",
       "2  d84a4552-3668-4075-ad1d-16840294f818          4         00:00:00   \n",
       "3  d84a4552-3668-4075-ad1d-16840294f818          0         00:00:00   \n",
       "4  d84a4552-3668-4075-ad1d-16840294f818          5         00:00:00   \n",
       "\n",
       "  end_time_local  \n",
       "0       00:01:00  \n",
       "1       00:01:00  \n",
       "2       00:01:00  \n",
       "3       00:01:00  \n",
       "4       00:01:00  "
      ]
     },
     "execution_count": 5,
     "metadata": {},
     "output_type": "execute_result"
    }
   ],
   "source": [
    "menu_hours.head()"
   ]
  }
 ],
 "metadata": {
  "kernelspec": {
   "display_name": ".venv",
   "language": "python",
   "name": "python3"
  },
  "language_info": {
   "codemirror_mode": {
    "name": "ipython",
    "version": 3
   },
   "file_extension": ".py",
   "mimetype": "text/x-python",
   "name": "python",
   "nbconvert_exporter": "python",
   "pygments_lexer": "ipython3",
   "version": "3.11.12"
  }
 },
 "nbformat": 4,
 "nbformat_minor": 5
}
